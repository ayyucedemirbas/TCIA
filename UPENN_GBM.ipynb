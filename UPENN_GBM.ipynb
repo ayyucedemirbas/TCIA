{
  "nbformat": 4,
  "nbformat_minor": 0,
  "metadata": {
    "colab": {
      "provenance": [],
      "authorship_tag": "ABX9TyNtKFInTlxH025ai31/hW3x",
      "include_colab_link": true
    },
    "kernelspec": {
      "name": "python3",
      "display_name": "Python 3"
    },
    "language_info": {
      "name": "python"
    }
  },
  "cells": [
    {
      "cell_type": "markdown",
      "metadata": {
        "id": "view-in-github",
        "colab_type": "text"
      },
      "source": [
        "<a href=\"https://colab.research.google.com/github/ayyucedemirbas/TCIA/blob/main/UPENN_GBM.ipynb\" target=\"_parent\"><img src=\"https://colab.research.google.com/assets/colab-badge.svg\" alt=\"Open In Colab\"/></a>"
      ]
    },
    {
      "cell_type": "code",
      "execution_count": 1,
      "metadata": {
        "colab": {
          "base_uri": "https://localhost:8080/",
          "height": 1000
        },
        "id": "367gZ66wbrY-",
        "outputId": "e3a2411c-1760-4e3a-ec84-936fdf974496"
      },
      "outputs": [
        {
          "output_type": "stream",
          "name": "stdout",
          "text": [
            "Collecting platipy\n",
            "  Downloading platipy-0.7.0-py3-none-any.whl (1.1 MB)\n",
            "\u001b[2K     \u001b[90m━━━━━━━━━━━━━━━━━━━━━━━━━━━━━━━━━━━━━━━━\u001b[0m \u001b[32m1.1/1.1 MB\u001b[0m \u001b[31m11.9 MB/s\u001b[0m eta \u001b[36m0:00:00\u001b[0m\n",
            "\u001b[?25hCollecting SimpleITK<3.0.0,>=2.0.2 (from platipy)\n",
            "  Downloading SimpleITK-2.3.0-cp310-cp310-manylinux_2_17_x86_64.manylinux2014_x86_64.whl (52.6 MB)\n",
            "\u001b[2K     \u001b[90m━━━━━━━━━━━━━━━━━━━━━━━━━━━━━━━━━━━━━━━━\u001b[0m \u001b[32m52.6/52.6 MB\u001b[0m \u001b[31m10.7 MB/s\u001b[0m eta \u001b[36m0:00:00\u001b[0m\n",
            "\u001b[?25hRequirement already satisfied: click<9.0.0,>=8.0.3 in /usr/local/lib/python3.10/dist-packages (from platipy) (8.1.7)\n",
            "Requirement already satisfied: matplotlib<4.0.0,>=3.2.2 in /usr/local/lib/python3.10/dist-packages (from platipy) (3.7.1)\n",
            "Collecting pandas<3.0.0,>=2.0.3 (from platipy)\n",
            "  Downloading pandas-2.1.1-cp310-cp310-manylinux_2_17_x86_64.manylinux2014_x86_64.whl (12.3 MB)\n",
            "\u001b[2K     \u001b[90m━━━━━━━━━━━━━━━━━━━━━━━━━━━━━━━━━━━━━━━━\u001b[0m \u001b[32m12.3/12.3 MB\u001b[0m \u001b[31m65.1 MB/s\u001b[0m eta \u001b[36m0:00:00\u001b[0m\n",
            "\u001b[?25hCollecting pydicom<3.0.0,>=2.1.2 (from platipy)\n",
            "  Downloading pydicom-2.4.3-py3-none-any.whl (1.8 MB)\n",
            "\u001b[2K     \u001b[90m━━━━━━━━━━━━━━━━━━━━━━━━━━━━━━━━━━━━━━━━\u001b[0m \u001b[32m1.8/1.8 MB\u001b[0m \u001b[31m63.9 MB/s\u001b[0m eta \u001b[36m0:00:00\u001b[0m\n",
            "\u001b[?25hCollecting pynetdicom<3.0.0,>=2.0.2 (from platipy)\n",
            "  Downloading pynetdicom-2.0.2-py3-none-any.whl (1.6 MB)\n",
            "\u001b[2K     \u001b[90m━━━━━━━━━━━━━━━━━━━━━━━━━━━━━━━━━━━━━━━━\u001b[0m \u001b[32m1.6/1.6 MB\u001b[0m \u001b[31m62.8 MB/s\u001b[0m eta \u001b[36m0:00:00\u001b[0m\n",
            "\u001b[?25hRequirement already satisfied: requests<3.0.0,>=2.25.1 in /usr/local/lib/python3.10/dist-packages (from platipy) (2.31.0)\n",
            "Collecting rt-utils<2.0.0,>=1.1.4 (from platipy)\n",
            "  Downloading rt_utils-1.2.7-py2.py3-none-any.whl (18 kB)\n",
            "Requirement already satisfied: scikit-image>=0.18.1 in /usr/local/lib/python3.10/dist-packages (from platipy) (0.19.3)\n",
            "Requirement already satisfied: contourpy>=1.0.1 in /usr/local/lib/python3.10/dist-packages (from matplotlib<4.0.0,>=3.2.2->platipy) (1.1.1)\n",
            "Requirement already satisfied: cycler>=0.10 in /usr/local/lib/python3.10/dist-packages (from matplotlib<4.0.0,>=3.2.2->platipy) (0.12.0)\n",
            "Requirement already satisfied: fonttools>=4.22.0 in /usr/local/lib/python3.10/dist-packages (from matplotlib<4.0.0,>=3.2.2->platipy) (4.43.0)\n",
            "Requirement already satisfied: kiwisolver>=1.0.1 in /usr/local/lib/python3.10/dist-packages (from matplotlib<4.0.0,>=3.2.2->platipy) (1.4.5)\n",
            "Requirement already satisfied: numpy>=1.20 in /usr/local/lib/python3.10/dist-packages (from matplotlib<4.0.0,>=3.2.2->platipy) (1.23.5)\n",
            "Requirement already satisfied: packaging>=20.0 in /usr/local/lib/python3.10/dist-packages (from matplotlib<4.0.0,>=3.2.2->platipy) (23.1)\n",
            "Requirement already satisfied: pillow>=6.2.0 in /usr/local/lib/python3.10/dist-packages (from matplotlib<4.0.0,>=3.2.2->platipy) (9.4.0)\n",
            "Requirement already satisfied: pyparsing>=2.3.1 in /usr/local/lib/python3.10/dist-packages (from matplotlib<4.0.0,>=3.2.2->platipy) (3.1.1)\n",
            "Requirement already satisfied: python-dateutil>=2.7 in /usr/local/lib/python3.10/dist-packages (from matplotlib<4.0.0,>=3.2.2->platipy) (2.8.2)\n",
            "Requirement already satisfied: pytz>=2020.1 in /usr/local/lib/python3.10/dist-packages (from pandas<3.0.0,>=2.0.3->platipy) (2023.3.post1)\n",
            "Collecting tzdata>=2022.1 (from pandas<3.0.0,>=2.0.3->platipy)\n",
            "  Downloading tzdata-2023.3-py2.py3-none-any.whl (341 kB)\n",
            "\u001b[2K     \u001b[90m━━━━━━━━━━━━━━━━━━━━━━━━━━━━━━━━━━━━━━\u001b[0m \u001b[32m341.8/341.8 kB\u001b[0m \u001b[31m26.1 MB/s\u001b[0m eta \u001b[36m0:00:00\u001b[0m\n",
            "\u001b[?25hRequirement already satisfied: charset-normalizer<4,>=2 in /usr/local/lib/python3.10/dist-packages (from requests<3.0.0,>=2.25.1->platipy) (3.2.0)\n",
            "Requirement already satisfied: idna<4,>=2.5 in /usr/local/lib/python3.10/dist-packages (from requests<3.0.0,>=2.25.1->platipy) (3.4)\n",
            "Requirement already satisfied: urllib3<3,>=1.21.1 in /usr/local/lib/python3.10/dist-packages (from requests<3.0.0,>=2.25.1->platipy) (2.0.5)\n",
            "Requirement already satisfied: certifi>=2017.4.17 in /usr/local/lib/python3.10/dist-packages (from requests<3.0.0,>=2.25.1->platipy) (2023.7.22)\n",
            "Requirement already satisfied: opencv-python in /usr/local/lib/python3.10/dist-packages (from rt-utils<2.0.0,>=1.1.4->platipy) (4.8.0.76)\n",
            "Collecting dataclasses (from rt-utils<2.0.0,>=1.1.4->platipy)\n",
            "  Downloading dataclasses-0.6-py3-none-any.whl (14 kB)\n",
            "Requirement already satisfied: scipy>=1.4.1 in /usr/local/lib/python3.10/dist-packages (from scikit-image>=0.18.1->platipy) (1.11.3)\n",
            "Requirement already satisfied: networkx>=2.2 in /usr/local/lib/python3.10/dist-packages (from scikit-image>=0.18.1->platipy) (3.1)\n",
            "Requirement already satisfied: imageio>=2.4.1 in /usr/local/lib/python3.10/dist-packages (from scikit-image>=0.18.1->platipy) (2.31.4)\n",
            "Requirement already satisfied: tifffile>=2019.7.26 in /usr/local/lib/python3.10/dist-packages (from scikit-image>=0.18.1->platipy) (2023.9.26)\n",
            "Requirement already satisfied: PyWavelets>=1.1.1 in /usr/local/lib/python3.10/dist-packages (from scikit-image>=0.18.1->platipy) (1.4.1)\n",
            "Requirement already satisfied: six>=1.5 in /usr/local/lib/python3.10/dist-packages (from python-dateutil>=2.7->matplotlib<4.0.0,>=3.2.2->platipy) (1.16.0)\n",
            "Installing collected packages: SimpleITK, dataclasses, tzdata, pydicom, rt-utils, pynetdicom, pandas, platipy\n",
            "  Attempting uninstall: pandas\n",
            "    Found existing installation: pandas 1.5.3\n",
            "    Uninstalling pandas-1.5.3:\n",
            "      Successfully uninstalled pandas-1.5.3\n",
            "\u001b[31mERROR: pip's dependency resolver does not currently take into account all the packages that are installed. This behaviour is the source of the following dependency conflicts.\n",
            "google-colab 1.0.0 requires pandas==1.5.3, but you have pandas 2.1.1 which is incompatible.\u001b[0m\u001b[31m\n",
            "\u001b[0mSuccessfully installed SimpleITK-2.3.0 dataclasses-0.6 pandas-2.1.1 platipy-0.7.0 pydicom-2.4.3 pynetdicom-2.0.2 rt-utils-1.2.7 tzdata-2023.3\n"
          ]
        },
        {
          "output_type": "display_data",
          "data": {
            "application/vnd.colab-display-data+json": {
              "pip_warning": {
                "packages": [
                  "dataclasses"
                ]
              }
            }
          },
          "metadata": {}
        }
      ],
      "source": [
        "try:\n",
        "    import platipy\n",
        "except:\n",
        "    !pip install platipy\n",
        "import platipy\n",
        "import SimpleITK as sitk\n",
        "from platipy.dicom.download.tcia import (get_collections, get_modalities_in_collection, get_patients_in_collection, fetch_data)\n",
        "from platipy.imaging import ImageVisualiser\n",
        "from platipy.imaging.label.utils import get_com"
      ]
    },
    {
      "cell_type": "code",
      "source": [
        "collections = get_collections()"
      ],
      "metadata": {
        "id": "3glRmhEXb2lK"
      },
      "execution_count": 2,
      "outputs": []
    },
    {
      "cell_type": "code",
      "source": [
        "collections"
      ],
      "metadata": {
        "colab": {
          "base_uri": "https://localhost:8080/"
        },
        "id": "Ogv8m6QCcKBv",
        "outputId": "4b9335e8-6bc4-4037-bc62-e00cf391a7a2"
      },
      "execution_count": 4,
      "outputs": [
        {
          "output_type": "execute_result",
          "data": {
            "text/plain": [
              "['4D-Lung',\n",
              " 'ACNS0332',\n",
              " 'ACRIN-6698',\n",
              " 'ACRIN-Contralateral-Breast-MR',\n",
              " 'ACRIN-FLT-Breast',\n",
              " 'ACRIN-NSCLC-FDG-PET',\n",
              " 'AHOD0831',\n",
              " 'APOLLO',\n",
              " 'APOLLO-5-ESCA',\n",
              " 'APOLLO-5-LSCC',\n",
              " 'APOLLO-5-LUAD',\n",
              " 'APOLLO-5-PAAD',\n",
              " 'APOLLO-5-THYM',\n",
              " 'ARAR0331',\n",
              " 'AREN0532',\n",
              " 'AREN0533',\n",
              " 'AREN0534',\n",
              " 'Adrenal-ACC-Ki67-Seg',\n",
              " 'Anti-PD-1_Lung',\n",
              " 'B-mode-and-CEUS-Liver',\n",
              " 'BREAST-DIAGNOSIS',\n",
              " 'Breast-Cancer-Screening-DBT',\n",
              " 'Breast-MRI-NACT-Pilot',\n",
              " 'C4KC-KiTS',\n",
              " 'CALGB50303',\n",
              " 'CBIS-DDSM',\n",
              " 'CC-Radiomics-Phantom',\n",
              " 'CC-Radiomics-Phantom-2',\n",
              " 'CC-Radiomics-Phantom-3',\n",
              " 'CC-Tumor-Heterogeneity',\n",
              " 'CMB-AML',\n",
              " 'CMB-CRC',\n",
              " 'CMB-GEC',\n",
              " 'CMB-LCA',\n",
              " 'CMB-MEL',\n",
              " 'CMB-MML',\n",
              " 'CMB-PCA',\n",
              " 'CMMD',\n",
              " 'COVID-19-AR',\n",
              " 'COVID-19-NY-SBU',\n",
              " 'CPTAC-CCRCC',\n",
              " 'CPTAC-CESC',\n",
              " 'CPTAC-CHOL',\n",
              " 'CPTAC-CM',\n",
              " 'CPTAC-HNSCC',\n",
              " 'CPTAC-LIHC',\n",
              " 'CPTAC-LSCC',\n",
              " 'CPTAC-LUAD',\n",
              " 'CPTAC-PDA',\n",
              " 'CPTAC-SAR',\n",
              " 'CPTAC-STAD',\n",
              " 'CPTAC-UCEC',\n",
              " 'CT COLONOGRAPHY',\n",
              " 'CT Lymph Nodes',\n",
              " 'CT-Phantom4Radiomics',\n",
              " 'CT-vs-PET-Ventilation-Imaging',\n",
              " 'CTpred-Sunitinib-panNET',\n",
              " 'Colorectal-Liver-Metastases',\n",
              " 'DRO-Toolkit',\n",
              " 'Duke-Breast-Cancer-MRI',\n",
              " 'EA1141',\n",
              " 'GBM-DSC-MRI-DRO',\n",
              " 'HCC-TACE-Seg',\n",
              " 'ICDC-Glioma',\n",
              " 'ISPY1',\n",
              " 'ISPY2',\n",
              " 'LCTSC',\n",
              " 'LIDC-IDRI',\n",
              " 'Lung Phantom',\n",
              " 'Lung-Fused-CT-Pathology',\n",
              " 'Lung-PET-CT-Dx',\n",
              " 'LungCT-Diagnosis',\n",
              " 'MIDRC-RICORD-1A',\n",
              " 'MIDRC-RICORD-1B',\n",
              " 'MIDRC-RICORD-1C',\n",
              " 'Mouse-Astrocytoma',\n",
              " 'Mouse-Mammary',\n",
              " 'NBIATestData',\n",
              " 'NSCLC Radiogenomics',\n",
              " 'NSCLC-Radiomics',\n",
              " 'NSCLC-Radiomics-Genomics',\n",
              " 'NSCLC-Radiomics-Interobserver1',\n",
              " 'NaF PROSTATE',\n",
              " 'PDMR-292921-168-R',\n",
              " 'PDMR-425362-245-T',\n",
              " 'PDMR-521955-158-R4',\n",
              " 'PDMR-833975-119-R',\n",
              " 'PDMR-997537-175-T',\n",
              " 'PDMR-BL0293-F563',\n",
              " 'PDMR-Texture-Analysis',\n",
              " 'PROSTATE-DIAGNOSIS',\n",
              " 'PROSTATE-MRI',\n",
              " 'PROSTATEx',\n",
              " 'Pancreas-CT',\n",
              " 'Pancreatic-CT-CBCT-SEG',\n",
              " 'Pediatric-CT-SEG',\n",
              " 'Pelvic-Reference-Data',\n",
              " 'Phantom FDA',\n",
              " 'Prostate Fused-MRI-Pathology',\n",
              " 'Prostate-3T',\n",
              " 'Prostate-Anatomical-Edge-Cases',\n",
              " 'Prostate-MRI-US-Biopsy',\n",
              " 'Pseudo-PHI-DICOM-Data',\n",
              " 'QIBA CT-1C',\n",
              " 'QIBA-CT-Liver-Phantom',\n",
              " 'QIN Breast DCE-MRI',\n",
              " 'QIN LUNG CT',\n",
              " 'QIN PET Phantom',\n",
              " 'QIN-BREAST',\n",
              " 'QIN-PROSTATE-Repeatability',\n",
              " 'RIDER Breast MRI',\n",
              " 'RIDER Lung CT',\n",
              " 'RIDER Lung PET-CT',\n",
              " 'RIDER PHANTOM MRI',\n",
              " 'RIDER PHANTOM PET-CT',\n",
              " 'RIDER Pilot',\n",
              " 'ReMIND',\n",
              " 'SPIE-AAPM Lung CT Challenge',\n",
              " 'Soft-tissue-Sarcoma',\n",
              " 'StageII-Colorectal-CT',\n",
              " 'TCGA-BLCA',\n",
              " 'TCGA-BRCA',\n",
              " 'TCGA-CESC',\n",
              " 'TCGA-COAD',\n",
              " 'TCGA-ESCA',\n",
              " 'TCGA-KICH',\n",
              " 'TCGA-KIRC',\n",
              " 'TCGA-KIRP',\n",
              " 'TCGA-LIHC',\n",
              " 'TCGA-LUAD',\n",
              " 'TCGA-LUSC',\n",
              " 'TCGA-OV',\n",
              " 'TCGA-PRAD',\n",
              " 'TCGA-READ',\n",
              " 'TCGA-SARC',\n",
              " 'TCGA-STAD',\n",
              " 'TCGA-THCA',\n",
              " 'TCGA-UCEC',\n",
              " 'Training-Pseudo',\n",
              " 'UPENN-GBM',\n",
              " 'VICTRE',\n",
              " 'Vestibular-Schwannoma-MC-RC',\n",
              " 'Vestibular-Schwannoma-SEG',\n",
              " 'covid-19']"
            ]
          },
          "metadata": {},
          "execution_count": 4
        }
      ]
    },
    {
      "cell_type": "code",
      "source": [
        "collection = 'UPENN-GBM'\n",
        "modalities = get_modalities_in_collection(collection)\n",
        "print(f\"Modalities available: {modalities}\")"
      ],
      "metadata": {
        "colab": {
          "base_uri": "https://localhost:8080/"
        },
        "id": "ocQIlOAzb5WA",
        "outputId": "52ea32bb-c73d-4cd6-a0e9-5ca87f3b54dc"
      },
      "execution_count": 6,
      "outputs": [
        {
          "output_type": "stream",
          "name": "stdout",
          "text": [
            "Modalities available: ['MR']\n"
          ]
        }
      ]
    },
    {
      "cell_type": "code",
      "source": [
        "patients = get_patients_in_collection(collection)"
      ],
      "metadata": {
        "id": "WORvVzewcG6M"
      },
      "execution_count": 7,
      "outputs": []
    },
    {
      "cell_type": "code",
      "source": [
        "patients"
      ],
      "metadata": {
        "id": "rhgfHoNYdRlG"
      },
      "execution_count": null,
      "outputs": []
    },
    {
      "cell_type": "code",
      "source": [
        "data = fetch_data(collection, patient_ids=patients, modalities=[\"MR\"], nifti=True)"
      ],
      "metadata": {
        "colab": {
          "base_uri": "https://localhost:8080/"
        },
        "id": "6gnnQbGydUaJ",
        "outputId": "bf02ba12-435d-4d06-af84-d3d3344bac7b"
      },
      "execution_count": null,
      "outputs": [
        {
          "output_type": "stream",
          "name": "stderr",
          "text": [
            "WARNING:platipy.dicom.io.crawl:  Two MR sequences were found under a single series UID.\n",
            "WARNING:platipy.dicom.io.crawl:  These will be split into separate images.\n",
            "WARNING:platipy.dicom.io.crawl:  Two MR sequences were found under a single series UID.\n",
            "WARNING:platipy.dicom.io.crawl:  These will be split into separate images.\n"
          ]
        }
      ]
    },
    {
      "cell_type": "code",
      "source": [],
      "metadata": {
        "id": "nZYrjbmNeUEj"
      },
      "execution_count": null,
      "outputs": []
    }
  ]
}